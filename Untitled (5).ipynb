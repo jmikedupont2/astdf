{
 "cells": [
  {
   "cell_type": "code",
   "execution_count": 6,
   "id": "2c2efcf6-69ac-4a29-a1b8-c0e4eb406ec0",
   "metadata": {},
   "outputs": [],
   "source": [
    "import pandas\n",
    "import tensorflow\n",
    "import keras\n",
    "import sklearn\n",
    "import matplotlib.pyplot as plt\n",
    "import ast\n",
    "import inspect\n",
    "import types\n",
    "import json\n",
    "from contextlib import suppress\n",
    "from _ast import AST\n",
    "from ast import parse\n",
    "import codecs\n",
    "import pandas as pd\n",
    "import asttokens\n",
    "from sklearn.model_selection import train_test_split\n",
    "import numpy as np\n",
    "from sklearn.preprocessing import OneHotEncoder"
   ]
  },
  {
   "cell_type": "code",
   "execution_count": 7,
   "id": "0d9e941d-4394-4cb0-950a-0a8cd5a16832",
   "metadata": {},
   "outputs": [],
   "source": [
    "# First we iterate over all the modules that are not built in\n",
    "# and find the globals that are modules and for each of those we parse the ast of the module.\n",
    "\n",
    "parsed_modules_asts ={\n",
    "    x : ast.parse(inspect.getsource(y))\n",
    "    for x,y in globals().items()\n",
    "    if isinstance(y, types.ModuleType)\n",
    "    and x not in  ('__builtins__',\n",
    "                   '__builtin__',\n",
    "                  )\n",
    "         \n",
    "}\n"
   ]
  },
  {
   "cell_type": "code",
   "execution_count": 9,
   "id": "3f6f55c4-8909-4653-a25d-50a123e92100",
   "metadata": {},
   "outputs": [],
   "source": [
    "# lifted from ast-to-json\n",
    "\n",
    "BUILTIN_PURE = (int, float, bool)\n",
    "BUILTIN_BYTES = (bytearray, bytes)\n",
    "BUILTIN_STR = (str)\n",
    "\n",
    "\n",
    "def decode_str(value):\n",
    "    return value\n",
    "\n",
    "\n",
    "def decode_bytes(value):\n",
    "    try:\n",
    "        return value.decode('utf-8')\n",
    "    except:\n",
    "        return codecs.getencoder('hex_codec')(value)[0].decode('utf-8')\n",
    "    \n",
    "\n",
    "def ast2json(node, maxd=4):\n",
    "    assert isinstance(node, AST)\n",
    "    to_return = dict()\n",
    "    to_return['_type'] = node.__class__.__name__\n",
    "    for attr in dir(node):\n",
    "        if attr.startswith(\"_\"):\n",
    "            continue\n",
    "        to_return[attr] = get_value(getattr(node, attr),maxd-1)\n",
    "    return to_return\n",
    "\n",
    "\n",
    "def str2json(string):\n",
    "    return ast2json(parse(string))\n",
    "\n",
    "\n",
    "\n",
    "def get_value(attr_value, maxd):\n",
    "    if maxd <= 0:\n",
    "        return \"EOF\"\n",
    "    if attr_value is None:\n",
    "        return attr_value\n",
    "    if isinstance(attr_value, BUILTIN_PURE):\n",
    "        return attr_value\n",
    "    if isinstance(attr_value, BUILTIN_BYTES):\n",
    "        return decode_bytes(attr_value)\n",
    "    if isinstance(attr_value, BUILTIN_STR):\n",
    "        return decode_str(attr_value)\n",
    "    if isinstance(attr_value, complex):\n",
    "        return str(attr_value)\n",
    "    if isinstance(attr_value, list):\n",
    "        return [get_value(x,maxd) for x in attr_value]\n",
    "    if isinstance(attr_value, AST):\n",
    "        return ast2json(attr_value,maxd)\n",
    "    if isinstance(attr_value, type(Ellipsis)):\n",
    "        return '...'\n",
    "    if isinstance(attr_value, type(asttokens.util.Token)):\n",
    "        return 'MODULE'\n",
    "    if isinstance(attr_value, asttokens.util.Token):\n",
    "        return 'MODUL2E'\n",
    "    #Exception: unknown case for 'NAME:'module'' of type '<class 'asttokens.util.Token'>'\n",
    "    else:\n",
    "        raise Exception(\"unknown case for '%s' of type '%s'\" % (attr_value, type(attr_value)))"
   ]
  },
  {
   "cell_type": "code",
   "execution_count": 12,
   "id": "7185516f-b63f-4b84-afe2-a1aa3b66b51c",
   "metadata": {},
   "outputs": [
    {
     "name": "stdout",
     "output_type": "stream",
     "text": [
      "pandas 31\n",
      "tensorflow 347\n",
      "keras 10\n",
      "sklearn 13\n",
      "plt 218\n",
      "ast 48\n",
      "inspect 150\n",
      "types 45\n",
      "json 14\n",
      "codecs 41\n",
      "pd 31\n",
      "asttokens 3\n",
      "np 7\n"
     ]
    }
   ],
   "source": [
    "# now you can see what modules we have and how many decls they have\n",
    "for module in parsed_modules_asts:\n",
    "    print(module, len(parsed_modules_asts[module].body))"
   ]
  },
  {
   "cell_type": "code",
   "execution_count": 54,
   "id": "112e8130-067f-4a38-8214-6e28a56d5aa7",
   "metadata": {},
   "outputs": [
    {
     "data": {
      "text/plain": [
       "[ast.Assign,\n",
       " ast.Assign,\n",
       " ast.Assign,\n",
       " ast.For,\n",
       " ast.If,\n",
       " ast.Delete,\n",
       " ast.ImportFrom,\n",
       " ast.Try,\n",
       " ast.ImportFrom,\n",
       " ast.Import,\n",
       " ast.ImportFrom,\n",
       " ast.ImportFrom,\n",
       " ast.ImportFrom,\n",
       " ast.ImportFrom,\n",
       " ast.ImportFrom,\n",
       " ast.ImportFrom,\n",
       " ast.ImportFrom,\n",
       " ast.ImportFrom,\n",
       " ast.ImportFrom,\n",
       " ast.ImportFrom,\n",
       " ast.ImportFrom,\n",
       " ast.ImportFrom,\n",
       " ast.Assign,\n",
       " ast.Assign,\n",
       " ast.Assign,\n",
       " ast.Delete,\n",
       " ast.Assign,\n",
       " ast.FunctionDef,\n",
       " ast.FunctionDef,\n",
       " ast.Assign,\n",
       " ast.Assign]"
      ]
     },
     "execution_count": 54,
     "metadata": {},
     "output_type": "execute_result"
    }
   ],
   "source": [
    "# example of types of nodes in pandas\n",
    "[type(t) for t in parsed_modules_asts[\"pandas\"].body]"
   ]
  },
  {
   "cell_type": "code",
   "execution_count": 19,
   "id": "aef91db8-db2a-4c6f-b85c-1c084f871cc0",
   "metadata": {},
   "outputs": [],
   "source": [
    "# now we process the df and create a dataframe that is simple\n",
    "# here we collect all the data we want to process.\n",
    "def foo():\n",
    "    modid=1\n",
    "    for module in parsed_modules_asts:\n",
    "        declid=1\n",
    "        for t in parsed_modules_asts[module].body:\n",
    "            t = str(type(t))\n",
    "            \n",
    "            yield { \n",
    "                'module': module, \n",
    "                'type': t,\n",
    "                #\"mod_id\" : modid,\n",
    "                #\"decl_id\" : declid,\n",
    "                #\"raw\" : t\n",
    "                }\n",
    "            declid = declid +1\n",
    "        modid = modid +1\n",
    "def findex(x):\n",
    "    return str(x)\n",
    "\n",
    "df2 = pd.DataFrame([ x for x in foo()],\n",
    "                  columns = [\n",
    "                      'module', \n",
    "                      'type',\n",
    "                      #\"mod_id\",\n",
    "                      #\"decl_id\",\n",
    "                      #\"raw\"\n",
    "                  ],\n",
    "                  index = map(findex, [ x for x in foo()])\n",
    "                )\n"
   ]
  },
  {
   "cell_type": "code",
   "execution_count": 20,
   "id": "534b88e3-3de7-463d-a508-b8dd04c1cbb9",
   "metadata": {},
   "outputs": [],
   "source": [
    "# one hot encoding\n",
    "oheall = OneHotEncoder()\n",
    "all_t = oheall.fit_transform(df2)"
   ]
  },
  {
   "cell_type": "code",
   "execution_count": null,
   "id": "7fbcac78-6950-4959-b562-f44ad7119183",
   "metadata": {},
   "outputs": [],
   "source": []
  },
  {
   "cell_type": "code",
   "execution_count": 21,
   "id": "13356409-cbb9-4e64-8c65-83a45460b0b2",
   "metadata": {},
   "outputs": [],
   "source": [
    "# this sets up the Matplotlib interactive windows:\n",
    "%matplotlib widget\n",
    "\n",
    "# this changes the default date converter for better interactive plotting of dates:\n",
    "plt.rcParams['date.converter'] = 'concise'"
   ]
  },
  {
   "cell_type": "code",
   "execution_count": null,
   "id": "3b017eef-62c8-493e-98f5-f5a07c15abc8",
   "metadata": {},
   "outputs": [],
   "source": []
  },
  {
   "cell_type": "code",
   "execution_count": null,
   "id": "7fa6984a-5f4a-4851-a881-3705102413e0",
   "metadata": {},
   "outputs": [],
   "source": []
  },
  {
   "cell_type": "code",
   "execution_count": null,
   "id": "677f2f4e-ecde-4594-8dc9-d13072544ef5",
   "metadata": {},
   "outputs": [],
   "source": []
  },
  {
   "cell_type": "code",
   "execution_count": 52,
   "id": "1ef89d1f-3112-42d8-bc54-449442a08e0c",
   "metadata": {},
   "outputs": [
    {
     "data": {
      "text/plain": [
       "<matplotlib.image.AxesImage at 0x7f14ce2aa890>"
      ]
     },
     "execution_count": 52,
     "metadata": {},
     "output_type": "execute_result"
    },
    {
     "data": {
      "application/vnd.jupyter.widget-view+json": {
       "model_id": "12b045e7bf3f4dc688385613b80e853f",
       "version_major": 2,
       "version_minor": 0
      },
      "image/png": "[encoded data removed]",
      "text/html": [
       "\n",
       "            <div style=\"display: inline-block;\">\n",
       "                <div class=\"jupyter-widgets widget-label\" style=\"text-align: center;\">\n",
       "                    Figure\n",
       "                </div>\n",
       "                <img src='data:image/png;base64,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' width=640.0/>\n",
       "            </div>\n",
       "        "
      ],
      "text/plain": [
       "Canvas(toolbar=Toolbar(toolitems=[('Home', 'Reset original view', 'home', 'home'), ('Back', 'Back to previous …"
      ]
     },
     "metadata": {},
     "output_type": "display_data"
    }
   ],
   "source": [
    "simple_matrix=[\n",
    "    [\n",
    "        z for z in x[0].toarray()[0]\n",
    "    ]\n",
    " for x in all_t    \n",
    "]\n",
    "%matplotlib widget\n",
    "plt.spy(simple_matrix,aspect=0.01)"
   ]
  },
  {
   "cell_type": "code",
   "execution_count": 53,
   "id": "cb2f873d-c7e8-4c79-83d9-1ef183692a27",
   "metadata": {},
   "outputs": [
    {
     "data": {
      "text/plain": [
       "<matplotlib.lines.Line2D at 0x7f14ce637250>"
      ]
     },
     "execution_count": 53,
     "metadata": {},
     "output_type": "execute_result"
    },
    {
     "data": {
      "application/vnd.jupyter.widget-view+json": {
       "model_id": "baa45b02c8b44b30b621dc4d76f59c98",
       "version_major": 2,
       "version_minor": 0
      },
      "image/png": "[encoded data removed]",
      "text/html": [
       "\n",
       "            <div style=\"display: inline-block;\">\n",
       "                <div class=\"jupyter-widgets widget-label\" style=\"text-align: center;\">\n",
       "                    Figure\n",
       "                </div>\n",
       "                <img src='data:image/png;base64,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' width=640.0/>\n",
       "            </div>\n",
       "        "
      ],
      "text/plain": [
       "Canvas(toolbar=Toolbar(toolitems=[('Home', 'Reset original view', 'home', 'home'), ('Back', 'Back to previous …"
      ]
     },
     "metadata": {},
     "output_type": "display_data"
    }
   ],
   "source": [
    "%matplotlib widget\n",
    "plt.spy(module_new, precision = 0.1, markersize = 2, aspect=0.01)"
   ]
  },
  {
   "cell_type": "code",
   "execution_count": 62,
   "id": "b33b809a-a8a9-496a-8292-7259e19cdd76",
   "metadata": {},
   "outputs": [
    {
     "data": {
      "text/plain": [
       "['module_ast',\n",
       " 'module_asttokens',\n",
       " 'module_codecs',\n",
       " 'module_inspect',\n",
       " 'module_json',\n",
       " 'module_keras',\n",
       " 'module_np',\n",
       " 'module_pandas',\n",
       " 'module_pd',\n",
       " 'module_plt',\n",
       " 'module_sklearn',\n",
       " 'module_tensorflow',\n",
       " 'module_types',\n",
       " \"type_<class 'ast.Assign'>\",\n",
       " \"type_<class 'ast.AsyncFunctionDef'>\",\n",
       " \"type_<class 'ast.AugAssign'>\",\n",
       " \"type_<class 'ast.ClassDef'>\",\n",
       " \"type_<class 'ast.Delete'>\",\n",
       " \"type_<class 'ast.Expr'>\",\n",
       " \"type_<class 'ast.For'>\",\n",
       " \"type_<class 'ast.FunctionDef'>\",\n",
       " \"type_<class 'ast.If'>\",\n",
       " \"type_<class 'ast.Import'>\",\n",
       " \"type_<class 'ast.ImportFrom'>\",\n",
       " \"type_<class 'ast.Try'>\"]"
      ]
     },
     "execution_count": 62,
     "metadata": {},
     "output_type": "execute_result"
    }
   ],
   "source": [
    "[str(x) for x in oheall.get_feature_names_out()]"
   ]
  },
  {
   "cell_type": "code",
   "execution_count": 66,
   "id": "63048a61-b668-41c1-9543-aeb8b43c0e53",
   "metadata": {},
   "outputs": [
    {
     "data": {
      "text/plain": [
       "<matplotlib.lines.Line2D at 0x7f14cd58d2a0>"
      ]
     },
     "execution_count": 66,
     "metadata": {},
     "output_type": "execute_result"
    },
    {
     "data": {
      "application/vnd.jupyter.widget-view+json": {
       "model_id": "6382496f5f4b4d4e93e8ac256c501e66",
       "version_major": 2,
       "version_minor": 0
      },
      "image/png": "[encoded data removed]",
      "text/html": [
       "\n",
       "            <div style=\"display: inline-block;\">\n",
       "                <div class=\"jupyter-widgets widget-label\" style=\"text-align: center;\">\n",
       "                    Figure\n",
       "                </div>\n",
       "                <img src='data:image/png;base64,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' width=640.0/>\n",
       "            </div>\n",
       "        "
      ],
      "text/plain": [
       "Canvas(toolbar=Toolbar(toolitems=[('Home', 'Reset original view', 'home', 'home'), ('Back', 'Back to previous …"
      ]
     },
     "metadata": {},
     "output_type": "display_data"
    }
   ],
   "source": [
    "%matplotlib widget\n",
    "plt.spy(module_new[:], precision = 0.1, markersize = 2, aspect=0.01)"
   ]
  },
  {
   "cell_type": "code",
   "execution_count": 81,
   "id": "f27be65d-76ea-4f2f-be6a-7796024dd3b6",
   "metadata": {},
   "outputs": [
    {
     "data": {
      "text/plain": [
       "48"
      ]
     },
     "execution_count": 81,
     "metadata": {},
     "output_type": "execute_result"
    }
   ],
   "source": [
    "# the count of true for column 0\n",
    "len([y for y in list(enumerate([x[0] for x in module_new])) if y[1]==1])"
   ]
  },
  {
   "cell_type": "code",
   "execution_count": 87,
   "id": "d91b8ce3-009c-41d0-8c05-6956a623a914",
   "metadata": {},
   "outputs": [],
   "source": [
    "columns =[c for c in enumerate([str(x) for x in oheall.get_feature_names_out()\n",
    "                      ])\n",
    "                      ]"
   ]
  },
  {
   "cell_type": "code",
   "execution_count": 90,
   "id": "8adb66bf-e645-4fcd-8bb0-c5823252921c",
   "metadata": {},
   "outputs": [],
   "source": [
    "objects_per_column= { c[1] : len([y for y in list(enumerate([x[c[0]] for x in module_new])) if y[1]==1]) for c in columns}"
   ]
  },
  {
   "cell_type": "code",
   "execution_count": 91,
   "id": "ca2b48a7-a18a-4b2e-82c5-a06206450e5f",
   "metadata": {},
   "outputs": [
    {
     "data": {
      "text/plain": [
       "{'module_ast': 48,\n",
       " 'module_asttokens': 3,\n",
       " 'module_codecs': 41,\n",
       " 'module_inspect': 150,\n",
       " 'module_json': 14,\n",
       " 'module_keras': 10,\n",
       " 'module_np': 7,\n",
       " 'module_pandas': 31,\n",
       " 'module_pd': 31,\n",
       " 'module_plt': 218,\n",
       " 'module_sklearn': 13,\n",
       " 'module_tensorflow': 347,\n",
       " 'module_types': 45,\n",
       " \"type_<class 'ast.Assign'>\": 124,\n",
       " \"type_<class 'ast.AsyncFunctionDef'>\": 2,\n",
       " \"type_<class 'ast.AugAssign'>\": 1,\n",
       " \"type_<class 'ast.ClassDef'>\": 43,\n",
       " \"type_<class 'ast.Delete'>\": 5,\n",
       " \"type_<class 'ast.Expr'>\": 22,\n",
       " \"type_<class 'ast.For'>\": 3,\n",
       " \"type_<class 'ast.FunctionDef'>\": 300,\n",
       " \"type_<class 'ast.If'>\": 26,\n",
       " \"type_<class 'ast.Import'>\": 48,\n",
       " \"type_<class 'ast.ImportFrom'>\": 372,\n",
       " \"type_<class 'ast.Try'>\": 12}"
      ]
     },
     "execution_count": 91,
     "metadata": {},
     "output_type": "execute_result"
    }
   ],
   "source": [
    "objects_per_column"
   ]
  },
  {
   "cell_type": "code",
   "execution_count": 109,
   "id": "96a99ae8-56f2-4ed2-a00c-74181d1b0b67",
   "metadata": {},
   "outputs": [],
   "source": [
    "def typeoffunction(x) : \n",
    "    return str(x)[:5]"
   ]
  },
  {
   "cell_type": "code",
   "execution_count": 129,
   "id": "69c0ffb8-bfc0-4e64-83d4-ad34d5815489",
   "metadata": {},
   "outputs": [],
   "source": [
    "objects_per_column_same_as_col_1= {c2[1] :[ \n",
    "    { \n",
    "        c[1] : len([y for y in list(enumerate([ x[c[0]] for x in module_new  \n",
    "                                                                                                     if (x[c2[0]] ==1\n",
    "                                                                                                        \n",
    "                                                                                                        \n",
    "                                                                                                        )\n",
    "                                                                                                    ]\n",
    "                                                                                                   )) if (y[1]==1 )\n",
    "                                                                         \n",
    "                                                                         ]) for c in \n",
    "         [cn for cn in columns if typeoffunction(c2[1]) != typeoffunction(cn[1])]\n",
    "        \n",
    "    } \n",
    "    ] for c2 in [cn for cn in columns ]\n",
    "    }# object"
   ]
  },
  {
   "cell_type": "code",
   "execution_count": 130,
   "id": "10f48714-e688-437d-bd27-07bd19196acc",
   "metadata": {},
   "outputs": [
    {
     "data": {
      "text/plain": [
       "{'module_ast': [{\"type_<class 'ast.Assign'>\": 7,\n",
       "   \"type_<class 'ast.AsyncFunctionDef'>\": 0,\n",
       "   \"type_<class 'ast.AugAssign'>\": 0,\n",
       "   \"type_<class 'ast.ClassDef'>\": 17,\n",
       "   \"type_<class 'ast.Delete'>\": 0,\n",
       "   \"type_<class 'ast.Expr'>\": 1,\n",
       "   \"type_<class 'ast.For'>\": 0,\n",
       "   \"type_<class 'ast.FunctionDef'>\": 16,\n",
       "   \"type_<class 'ast.If'>\": 3,\n",
       "   \"type_<class 'ast.Import'>\": 1,\n",
       "   \"type_<class 'ast.ImportFrom'>\": 3,\n",
       "   \"type_<class 'ast.Try'>\": 0}],\n",
       " 'module_asttokens': [{\"type_<class 'ast.Assign'>\": 0,\n",
       "   \"type_<class 'ast.AsyncFunctionDef'>\": 0,\n",
       "   \"type_<class 'ast.AugAssign'>\": 0,\n",
       "   \"type_<class 'ast.ClassDef'>\": 0,\n",
       "   \"type_<class 'ast.Delete'>\": 0,\n",
       "   \"type_<class 'ast.Expr'>\": 1,\n",
       "   \"type_<class 'ast.For'>\": 0,\n",
       "   \"type_<class 'ast.FunctionDef'>\": 0,\n",
       "   \"type_<class 'ast.If'>\": 0,\n",
       "   \"type_<class 'ast.Import'>\": 0,\n",
       "   \"type_<class 'ast.ImportFrom'>\": 2,\n",
       "   \"type_<class 'ast.Try'>\": 0}],\n",
       " 'module_codecs': [{\"type_<class 'ast.Assign'>\": 11,\n",
       "   \"type_<class 'ast.AsyncFunctionDef'>\": 0,\n",
       "   \"type_<class 'ast.AugAssign'>\": 0,\n",
       "   \"type_<class 'ast.ClassDef'>\": 10,\n",
       "   \"type_<class 'ast.Delete'>\": 0,\n",
       "   \"type_<class 'ast.Expr'>\": 1,\n",
       "   \"type_<class 'ast.For'>\": 0,\n",
       "   \"type_<class 'ast.FunctionDef'>\": 12,\n",
       "   \"type_<class 'ast.If'>\": 3,\n",
       "   \"type_<class 'ast.Import'>\": 2,\n",
       "   \"type_<class 'ast.ImportFrom'>\": 0,\n",
       "   \"type_<class 'ast.Try'>\": 2}],\n",
       " 'module_inspect': [{\"type_<class 'ast.Assign'>\": 32,\n",
       "   \"type_<class 'ast.AsyncFunctionDef'>\": 0,\n",
       "   \"type_<class 'ast.AugAssign'>\": 0,\n",
       "   \"type_<class 'ast.ClassDef'>\": 10,\n",
       "   \"type_<class 'ast.Delete'>\": 0,\n",
       "   \"type_<class 'ast.Expr'>\": 1,\n",
       "   \"type_<class 'ast.For'>\": 1,\n",
       "   \"type_<class 'ast.FunctionDef'>\": 84,\n",
       "   \"type_<class 'ast.If'>\": 3,\n",
       "   \"type_<class 'ast.Import'>\": 17,\n",
       "   \"type_<class 'ast.ImportFrom'>\": 2,\n",
       "   \"type_<class 'ast.Try'>\": 0}],\n",
       " 'module_json': [{\"type_<class 'ast.Assign'>\": 5,\n",
       "   \"type_<class 'ast.AsyncFunctionDef'>\": 0,\n",
       "   \"type_<class 'ast.AugAssign'>\": 0,\n",
       "   \"type_<class 'ast.ClassDef'>\": 0,\n",
       "   \"type_<class 'ast.Delete'>\": 0,\n",
       "   \"type_<class 'ast.Expr'>\": 1,\n",
       "   \"type_<class 'ast.For'>\": 0,\n",
       "   \"type_<class 'ast.FunctionDef'>\": 5,\n",
       "   \"type_<class 'ast.If'>\": 0,\n",
       "   \"type_<class 'ast.Import'>\": 1,\n",
       "   \"type_<class 'ast.ImportFrom'>\": 2,\n",
       "   \"type_<class 'ast.Try'>\": 0}],\n",
       " 'module_keras': [{\"type_<class 'ast.Assign'>\": 1,\n",
       "   \"type_<class 'ast.AsyncFunctionDef'>\": 0,\n",
       "   \"type_<class 'ast.AugAssign'>\": 0,\n",
       "   \"type_<class 'ast.ClassDef'>\": 0,\n",
       "   \"type_<class 'ast.Delete'>\": 0,\n",
       "   \"type_<class 'ast.Expr'>\": 2,\n",
       "   \"type_<class 'ast.For'>\": 0,\n",
       "   \"type_<class 'ast.FunctionDef'>\": 0,\n",
       "   \"type_<class 'ast.If'>\": 0,\n",
       "   \"type_<class 'ast.Import'>\": 0,\n",
       "   \"type_<class 'ast.ImportFrom'>\": 7,\n",
       "   \"type_<class 'ast.Try'>\": 0}],\n",
       " 'module_np': [{\"type_<class 'ast.Assign'>\": 0,\n",
       "   \"type_<class 'ast.AsyncFunctionDef'>\": 0,\n",
       "   \"type_<class 'ast.AugAssign'>\": 0,\n",
       "   \"type_<class 'ast.ClassDef'>\": 0,\n",
       "   \"type_<class 'ast.Delete'>\": 0,\n",
       "   \"type_<class 'ast.Expr'>\": 1,\n",
       "   \"type_<class 'ast.For'>\": 0,\n",
       "   \"type_<class 'ast.FunctionDef'>\": 0,\n",
       "   \"type_<class 'ast.If'>\": 1,\n",
       "   \"type_<class 'ast.Import'>\": 2,\n",
       "   \"type_<class 'ast.ImportFrom'>\": 2,\n",
       "   \"type_<class 'ast.Try'>\": 1}],\n",
       " 'module_pandas': [{\"type_<class 'ast.Assign'>\": 9,\n",
       "   \"type_<class 'ast.AsyncFunctionDef'>\": 0,\n",
       "   \"type_<class 'ast.AugAssign'>\": 0,\n",
       "   \"type_<class 'ast.ClassDef'>\": 0,\n",
       "   \"type_<class 'ast.Delete'>\": 2,\n",
       "   \"type_<class 'ast.Expr'>\": 0,\n",
       "   \"type_<class 'ast.For'>\": 1,\n",
       "   \"type_<class 'ast.FunctionDef'>\": 2,\n",
       "   \"type_<class 'ast.If'>\": 1,\n",
       "   \"type_<class 'ast.Import'>\": 1,\n",
       "   \"type_<class 'ast.ImportFrom'>\": 14,\n",
       "   \"type_<class 'ast.Try'>\": 1}],\n",
       " 'module_pd': [{\"type_<class 'ast.Assign'>\": 9,\n",
       "   \"type_<class 'ast.AsyncFunctionDef'>\": 0,\n",
       "   \"type_<class 'ast.AugAssign'>\": 0,\n",
       "   \"type_<class 'ast.ClassDef'>\": 0,\n",
       "   \"type_<class 'ast.Delete'>\": 2,\n",
       "   \"type_<class 'ast.Expr'>\": 0,\n",
       "   \"type_<class 'ast.For'>\": 1,\n",
       "   \"type_<class 'ast.FunctionDef'>\": 2,\n",
       "   \"type_<class 'ast.If'>\": 1,\n",
       "   \"type_<class 'ast.Import'>\": 1,\n",
       "   \"type_<class 'ast.ImportFrom'>\": 14,\n",
       "   \"type_<class 'ast.Try'>\": 1}],\n",
       " 'module_plt': [{\"type_<class 'ast.Assign'>\": 5,\n",
       "   \"type_<class 'ast.AsyncFunctionDef'>\": 0,\n",
       "   \"type_<class 'ast.AugAssign'>\": 0,\n",
       "   \"type_<class 'ast.ClassDef'>\": 3,\n",
       "   \"type_<class 'ast.Delete'>\": 0,\n",
       "   \"type_<class 'ast.Expr'>\": 2,\n",
       "   \"type_<class 'ast.For'>\": 0,\n",
       "   \"type_<class 'ast.FunctionDef'>\": 169,\n",
       "   \"type_<class 'ast.If'>\": 2,\n",
       "   \"type_<class 'ast.Import'>\": 11,\n",
       "   \"type_<class 'ast.ImportFrom'>\": 25,\n",
       "   \"type_<class 'ast.Try'>\": 1}],\n",
       " 'module_sklearn': [{\"type_<class 'ast.Assign'>\": 2,\n",
       "   \"type_<class 'ast.AsyncFunctionDef'>\": 0,\n",
       "   \"type_<class 'ast.AugAssign'>\": 0,\n",
       "   \"type_<class 'ast.ClassDef'>\": 0,\n",
       "   \"type_<class 'ast.Delete'>\": 0,\n",
       "   \"type_<class 'ast.Expr'>\": 3,\n",
       "   \"type_<class 'ast.For'>\": 0,\n",
       "   \"type_<class 'ast.FunctionDef'>\": 1,\n",
       "   \"type_<class 'ast.If'>\": 1,\n",
       "   \"type_<class 'ast.Import'>\": 4,\n",
       "   \"type_<class 'ast.ImportFrom'>\": 1,\n",
       "   \"type_<class 'ast.Try'>\": 1}],\n",
       " 'module_tensorflow': [{\"type_<class 'ast.Assign'>\": 16,\n",
       "   \"type_<class 'ast.AsyncFunctionDef'>\": 0,\n",
       "   \"type_<class 'ast.AugAssign'>\": 1,\n",
       "   \"type_<class 'ast.ClassDef'>\": 0,\n",
       "   \"type_<class 'ast.Delete'>\": 0,\n",
       "   \"type_<class 'ast.Expr'>\": 7,\n",
       "   \"type_<class 'ast.For'>\": 0,\n",
       "   \"type_<class 'ast.FunctionDef'>\": 1,\n",
       "   \"type_<class 'ast.If'>\": 11,\n",
       "   \"type_<class 'ast.Import'>\": 7,\n",
       "   \"type_<class 'ast.ImportFrom'>\": 300,\n",
       "   \"type_<class 'ast.Try'>\": 4}],\n",
       " 'module_types': [{\"type_<class 'ast.Assign'>\": 27,\n",
       "   \"type_<class 'ast.AsyncFunctionDef'>\": 2,\n",
       "   \"type_<class 'ast.AugAssign'>\": 0,\n",
       "   \"type_<class 'ast.ClassDef'>\": 3,\n",
       "   \"type_<class 'ast.Delete'>\": 1,\n",
       "   \"type_<class 'ast.Expr'>\": 2,\n",
       "   \"type_<class 'ast.For'>\": 0,\n",
       "   \"type_<class 'ast.FunctionDef'>\": 8,\n",
       "   \"type_<class 'ast.If'>\": 0,\n",
       "   \"type_<class 'ast.Import'>\": 1,\n",
       "   \"type_<class 'ast.ImportFrom'>\": 0,\n",
       "   \"type_<class 'ast.Try'>\": 1}],\n",
       " \"type_<class 'ast.Assign'>\": [{'module_ast': 7,\n",
       "   'module_asttokens': 0,\n",
       "   'module_codecs': 11,\n",
       "   'module_inspect': 32,\n",
       "   'module_json': 5,\n",
       "   'module_keras': 1,\n",
       "   'module_np': 0,\n",
       "   'module_pandas': 9,\n",
       "   'module_pd': 9,\n",
       "   'module_plt': 5,\n",
       "   'module_sklearn': 2,\n",
       "   'module_tensorflow': 16,\n",
       "   'module_types': 27}],\n",
       " \"type_<class 'ast.AsyncFunctionDef'>\": [{'module_ast': 0,\n",
       "   'module_asttokens': 0,\n",
       "   'module_codecs': 0,\n",
       "   'module_inspect': 0,\n",
       "   'module_json': 0,\n",
       "   'module_keras': 0,\n",
       "   'module_np': 0,\n",
       "   'module_pandas': 0,\n",
       "   'module_pd': 0,\n",
       "   'module_plt': 0,\n",
       "   'module_sklearn': 0,\n",
       "   'module_tensorflow': 0,\n",
       "   'module_types': 2}],\n",
       " \"type_<class 'ast.AugAssign'>\": [{'module_ast': 0,\n",
       "   'module_asttokens': 0,\n",
       "   'module_codecs': 0,\n",
       "   'module_inspect': 0,\n",
       "   'module_json': 0,\n",
       "   'module_keras': 0,\n",
       "   'module_np': 0,\n",
       "   'module_pandas': 0,\n",
       "   'module_pd': 0,\n",
       "   'module_plt': 0,\n",
       "   'module_sklearn': 0,\n",
       "   'module_tensorflow': 1,\n",
       "   'module_types': 0}],\n",
       " \"type_<class 'ast.ClassDef'>\": [{'module_ast': 17,\n",
       "   'module_asttokens': 0,\n",
       "   'module_codecs': 10,\n",
       "   'module_inspect': 10,\n",
       "   'module_json': 0,\n",
       "   'module_keras': 0,\n",
       "   'module_np': 0,\n",
       "   'module_pandas': 0,\n",
       "   'module_pd': 0,\n",
       "   'module_plt': 3,\n",
       "   'module_sklearn': 0,\n",
       "   'module_tensorflow': 0,\n",
       "   'module_types': 3}],\n",
       " \"type_<class 'ast.Delete'>\": [{'module_ast': 0,\n",
       "   'module_asttokens': 0,\n",
       "   'module_codecs': 0,\n",
       "   'module_inspect': 0,\n",
       "   'module_json': 0,\n",
       "   'module_keras': 0,\n",
       "   'module_np': 0,\n",
       "   'module_pandas': 2,\n",
       "   'module_pd': 2,\n",
       "   'module_plt': 0,\n",
       "   'module_sklearn': 0,\n",
       "   'module_tensorflow': 0,\n",
       "   'module_types': 1}],\n",
       " \"type_<class 'ast.Expr'>\": [{'module_ast': 1,\n",
       "   'module_asttokens': 1,\n",
       "   'module_codecs': 1,\n",
       "   'module_inspect': 1,\n",
       "   'module_json': 1,\n",
       "   'module_keras': 2,\n",
       "   'module_np': 1,\n",
       "   'module_pandas': 0,\n",
       "   'module_pd': 0,\n",
       "   'module_plt': 2,\n",
       "   'module_sklearn': 3,\n",
       "   'module_tensorflow': 7,\n",
       "   'module_types': 2}],\n",
       " \"type_<class 'ast.For'>\": [{'module_ast': 0,\n",
       "   'module_asttokens': 0,\n",
       "   'module_codecs': 0,\n",
       "   'module_inspect': 1,\n",
       "   'module_json': 0,\n",
       "   'module_keras': 0,\n",
       "   'module_np': 0,\n",
       "   'module_pandas': 1,\n",
       "   'module_pd': 1,\n",
       "   'module_plt': 0,\n",
       "   'module_sklearn': 0,\n",
       "   'module_tensorflow': 0,\n",
       "   'module_types': 0}],\n",
       " \"type_<class 'ast.FunctionDef'>\": [{'module_ast': 16,\n",
       "   'module_asttokens': 0,\n",
       "   'module_codecs': 12,\n",
       "   'module_inspect': 84,\n",
       "   'module_json': 5,\n",
       "   'module_keras': 0,\n",
       "   'module_np': 0,\n",
       "   'module_pandas': 2,\n",
       "   'module_pd': 2,\n",
       "   'module_plt': 169,\n",
       "   'module_sklearn': 1,\n",
       "   'module_tensorflow': 1,\n",
       "   'module_types': 8}],\n",
       " \"type_<class 'ast.If'>\": [{'module_ast': 3,\n",
       "   'module_asttokens': 0,\n",
       "   'module_codecs': 3,\n",
       "   'module_inspect': 3,\n",
       "   'module_json': 0,\n",
       "   'module_keras': 0,\n",
       "   'module_np': 1,\n",
       "   'module_pandas': 1,\n",
       "   'module_pd': 1,\n",
       "   'module_plt': 2,\n",
       "   'module_sklearn': 1,\n",
       "   'module_tensorflow': 11,\n",
       "   'module_types': 0}],\n",
       " \"type_<class 'ast.Import'>\": [{'module_ast': 1,\n",
       "   'module_asttokens': 0,\n",
       "   'module_codecs': 2,\n",
       "   'module_inspect': 17,\n",
       "   'module_json': 1,\n",
       "   'module_keras': 0,\n",
       "   'module_np': 2,\n",
       "   'module_pandas': 1,\n",
       "   'module_pd': 1,\n",
       "   'module_plt': 11,\n",
       "   'module_sklearn': 4,\n",
       "   'module_tensorflow': 7,\n",
       "   'module_types': 1}],\n",
       " \"type_<class 'ast.ImportFrom'>\": [{'module_ast': 3,\n",
       "   'module_asttokens': 2,\n",
       "   'module_codecs': 0,\n",
       "   'module_inspect': 2,\n",
       "   'module_json': 2,\n",
       "   'module_keras': 7,\n",
       "   'module_np': 2,\n",
       "   'module_pandas': 14,\n",
       "   'module_pd': 14,\n",
       "   'module_plt': 25,\n",
       "   'module_sklearn': 1,\n",
       "   'module_tensorflow': 300,\n",
       "   'module_types': 0}],\n",
       " \"type_<class 'ast.Try'>\": [{'module_ast': 0,\n",
       "   'module_asttokens': 0,\n",
       "   'module_codecs': 2,\n",
       "   'module_inspect': 0,\n",
       "   'module_json': 0,\n",
       "   'module_keras': 0,\n",
       "   'module_np': 1,\n",
       "   'module_pandas': 1,\n",
       "   'module_pd': 1,\n",
       "   'module_plt': 1,\n",
       "   'module_sklearn': 1,\n",
       "   'module_tensorflow': 4,\n",
       "   'module_types': 1}]}"
      ]
     },
     "execution_count": 130,
     "metadata": {},
     "output_type": "execute_result"
    }
   ],
   "source": [
    "objects_per_column_same_as_col_1"
   ]
  },
  {
   "cell_type": "code",
   "execution_count": null,
   "id": "5efcf409-07ff-40af-9f8c-4b28ae776b58",
   "metadata": {},
   "outputs": [],
   "source": []
  },
  {
   "cell_type": "code",
   "execution_count": null,
   "id": "55798500-e69c-4b71-bc1c-97503e8ca0d8",
   "metadata": {},
   "outputs": [],
   "source": []
  }
 ],
 "metadata": {
  "kernelspec": {
   "display_name": "Python 3 (ipykernel)",
   "language": "python",
   "name": "python3"
  },
  "language_info": {
   "codemirror_mode": {
    "name": "ipython",
    "version": 3
   },
   "file_extension": ".py",
   "mimetype": "text/x-python",
   "name": "python",
   "nbconvert_exporter": "python",
   "pygments_lexer": "ipython3",
   "version": "3.10.5"
  }
 },
 "nbformat": 4,
 "nbformat_minor": 5
}
