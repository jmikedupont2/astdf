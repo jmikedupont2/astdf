{
  "nbformat": 4,
  "nbformat_minor": 0,
  "metadata": {
    "colab": {
      "name": "Untitled1.ipynb",
      "provenance": [],
      "collapsed_sections": [],
      "authorship_tag": "ABX9TyNot/LYQ7k+ZZjk1urz6eW4",
      "include_colab_link": true
    },
    "kernelspec": {
      "name": "python3",
      "display_name": "Python 3"
    },
    "language_info": {
      "name": "python"
    }
  },
  "cells": [
    {
      "cell_type": "markdown",
      "metadata": {
        "id": "view-in-github",
        "colab_type": "text"
      },
      "source": [
        "<a href=\"https://colab.research.google.com/github/jmikedupont2/astdf/blob/main/merging_columns.ipynb\" target=\"_parent\"><img src=\"https://colab.research.google.com/assets/colab-badge.svg\" alt=\"Open In Colab\"/></a>"
      ]
    },
    {
      "cell_type": "code",
      "execution_count": 2,
      "metadata": {
        "id": "7OsQ7aLlZwvZ"
      },
      "outputs": [],
      "source": [
        "def append_typename(f,v): \n",
        "    tn = type(v).__name__ \n",
        "    return f + \"_\"+ tn\n",
        "\n",
        "        "
      ]
    },
    {
      "cell_type": "code",
      "source": [
        "import psutil\n",
        "psutil.Process().memory_info().rss / (1024 * 1024)"
      ],
      "metadata": {
        "colab": {
          "base_uri": "https://localhost:8080/"
        },
        "id": "-eXjho3iOSCO",
        "outputId": "ff6f8863-24a5-4bf8-86f8-ff2a821e0ac4"
      },
      "execution_count": 1,
      "outputs": [
        {
          "output_type": "execute_result",
          "data": {
            "text/plain": [
              "91.0859375"
            ]
          },
          "metadata": {},
          "execution_count": 1
        }
      ]
    },
    {
      "cell_type": "code",
      "source": [
        "import pandas\n",
        "import tensorflow as tf\n",
        "import keras\n",
        "import sklearn\n",
        "import matplotlib.pyplot as plt\n",
        "import ast\n",
        "import inspect\n",
        "import types\n",
        "import json\n",
        "from contextlib import suppress\n",
        "from _ast import AST\n",
        "from ast import parse\n",
        "import codecs\n",
        "import pandas as pd\n",
        "#import asttokens\n",
        "from sklearn.model_selection import train_test_split\n",
        "import numpy as np\n",
        "from sklearn.preprocessing import (OneHotEncoder,LabelBinarizer)\n",
        "import seaborn as sns\n",
        "from sklearn.tree import DecisionTreeClassifier\n",
        "from sklearn.metrics import accuracy_score, confusion_matrix, classification_report\n",
        "from six import StringIO \n",
        "from sklearn.tree import export_graphviz\n",
        "import pydotplus\n",
        "from IPython.display import Image\n",
        "psutil.Process().memory_info().rss / (1024 * 1024)"
      ],
      "metadata": {
        "id": "km2djaGFZ3qR",
        "colab": {
          "base_uri": "https://localhost:8080/"
        },
        "outputId": "9f1d6748-d4a1-431a-c82d-88da73aed6a9"
      },
      "execution_count": 4,
      "outputs": [
        {
          "output_type": "execute_result",
          "data": {
            "text/plain": [
              "532.8125"
            ]
          },
          "metadata": {},
          "execution_count": 4
        }
      ]
    },
    {
      "cell_type": "code",
      "source": [
        "# First we iterate over all the modules that are not built in\n",
        "# and find the globals that are modules and for each of those we parse the ast of the module.\n",
        "\n",
        "parsed_modules_asts ={\n",
        "    x : ast.parse(inspect.getsource(y))\n",
        "    for x,y in globals().items()\n",
        "    if isinstance(y, types.ModuleType)\n",
        "    and x not in  ('__builtins__',\n",
        "                   '__builtin__',\n",
        "                  )\n",
        "         \n",
        "}\n",
        "psutil.Process().memory_info().rss / (1024 * 1024)"
      ],
      "metadata": {
        "id": "mPeMNTeraAFQ",
        "colab": {
          "base_uri": "https://localhost:8080/"
        },
        "outputId": "4fe95146-c2d3-4f77-c306-e7de45f2f616"
      },
      "execution_count": 5,
      "outputs": [
        {
          "output_type": "execute_result",
          "data": {
            "text/plain": [
              "542.109375"
            ]
          },
          "metadata": {},
          "execution_count": 5
        }
      ]
    },
    {
      "cell_type": "code",
      "source": [
        "all_asts = []\n",
        "module_asts={}\n",
        "\n",
        "for module in parsed_modules_asts:\n",
        "    module_asts[module]=[]\n",
        "    class DFVisitorLocal(ast.NodeVisitor):\n",
        "        def generic_visit(self, node):\n",
        "            all_asts.append(node)\n",
        "            if module not in module_asts:\n",
        "                module_asts[module]={}\n",
        "            module_asts[module].append(node)\n",
        "            ast.NodeVisitor.generic_visit(self, node)\n",
        "    v = DFVisitorLocal()\n",
        "    for y in parsed_modules_asts[module].body:\n",
        "        v.visit(y)              \n",
        "psutil.Process().memory_info().rss / (1024 * 1024)   "
      ],
      "metadata": {
        "id": "KQaMDwyFaFBg",
        "colab": {
          "base_uri": "https://localhost:8080/"
        },
        "outputId": "e7cdaee0-97fc-4c85-cc36-400088023fe1"
      },
      "execution_count": 7,
      "outputs": [
        {
          "output_type": "execute_result",
          "data": {
            "text/plain": [
              "543.76171875"
            ]
          },
          "metadata": {},
          "execution_count": 7
        }
      ]
    },
    {
      "cell_type": "code",
      "source": [
        "def simple(v):    \n",
        "    if isinstance(v, AST):\n",
        "        names=[]\n",
        "        names.append(type(v).__name__)\n",
        "        for f,v in ast.iter_fields(v):            \n",
        "            f = append_typename(f,v)            \n",
        "            names.append(f)\n",
        "        return \",\".join(names)           \n",
        "    elif isinstance(v, list):\n",
        "        return \"LIST\"+\".\".join(list(set([str(type(v1)) for v1 in v])))\n",
        "    else:\n",
        "        return str(v)"
      ],
      "metadata": {
        "id": "bQ_JuBzeaOgQ"
      },
      "execution_count": 8,
      "outputs": []
    },
    {
      "cell_type": "code",
      "source": [
        "mobjects=[]\n",
        "for y in all_asts:\n",
        "    object = {\n",
        "                  append_typename(f,v):simple(v) for f,v in ast.iter_fields(y)\n",
        "            }\n",
        "    object['nodetype']=simple(y)\n",
        "    mobjects.append(object)\n",
        "df = pd.DataFrame(mobjects)\n",
        "df\n",
        "psutil.Process().memory_info().rss / (1024 * 1024)"
      ],
      "metadata": {
        "colab": {
          "base_uri": "https://localhost:8080/"
        },
        "id": "9BNTi2MmaRbo",
        "outputId": "4188b312-a0f5-46c7-fd4e-d06a82086d07"
      },
      "execution_count": 9,
      "outputs": [
        {
          "output_type": "execute_result",
          "data": {
            "text/plain": [
              "674.59765625"
            ]
          },
          "metadata": {},
          "execution_count": 9
        }
      ]
    },
    {
      "cell_type": "code",
      "source": [
        "# columne encoders\n",
        "# we add the label binarizer\n",
        "#'<' not supported between instances of 'float' and 'str' targets\n",
        "#'<' not supported between instances of 'float' and 'str' value\n",
        "#'<' not supported between instances of 'float' and 'str' type_comment\n",
        "\n",
        "#for col in (\"value_Constant\",\"targets_list\",\"type_comment_NoneType\",\"id_str\"):\n",
        "#    df[col] = df[col].astype(str)\n",
        "\n",
        "colencoders={}\n",
        "for c in df.columns:\n",
        "    print(\"Processing: \" + c + \" \" + str(psutil.Process().memory_info().rss / (1024 * 1024)))\n",
        "    #print(df[c].unique())\n",
        "    df[c] = df[c].astype(str)\n",
        "    #le = sklearn.preprocessing.LabelEncoder()\n",
        "    be = sklearn.preprocessing.LabelBinarizer(\n",
        "        #sparse_output=True\n",
        "        )\n",
        "    #b = le.fit_transform(df[c])\n",
        "    \n",
        "    b2 = be.fit_transform(df[c])\n",
        "    \n",
        "    #b.hist()\n",
        "    colencoders[c]={ \n",
        "        #\"b\":b,\n",
        "        \"b2\":b2,\n",
        "        #\"le\":le,\n",
        "        \"be\":be,\n",
        "    }\n",
        "psutil.Process().memory_info().rss / (1024 * 1024)"
      ],
      "metadata": {
        "colab": {
          "base_uri": "https://localhost:8080/"
        },
        "id": "Qp-rt7pRaagx",
        "outputId": "9eef5a3a-bfa2-4ca7-cad1-81d92580a6d8"
      },
      "execution_count": 11,
      "outputs": [
        {
          "output_type": "stream",
          "name": "stdout",
          "text": [
            "Processing: value_Str 2409.11328125\n",
            "Processing: nodetype 2410.12890625\n",
            "Processing: s_str 2410.12890625\n",
            "Processing: module_str 2410.26953125\n",
            "Processing: names_list 2410.26953125\n",
            "Processing: level_int 2410.26953125\n",
            "Processing: name_str 2410.26953125\n",
            "Processing: asname_NoneType 2410.26953125\n",
            "Processing: body_list 2410.26953125\n",
            "Processing: handlers_list 2410.26953125\n",
            "Processing: orelse_list 2410.26953125\n",
            "Processing: finalbody_list 2410.26953125\n",
            "Processing: type_Name 2410.26953125\n",
            "Processing: name_NoneType 2410.26953125\n",
            "Processing: id_str 2410.26953125\n",
            "Processing: ctx_Load 2410.30859375\n",
            "Processing: targets_list 2410.30859375\n",
            "Processing: value_NameConstant 2410.30859375\n",
            "Processing: ctx_Store 2410.30859375\n",
            "Processing: value_NoneType 2410.30859375\n",
            "Processing: module_NoneType 2410.30859375\n",
            "Processing: asname_str 2410.30859375\n",
            "Processing: test_Name 2410.30859375\n",
            "Processing: test_Attribute 2410.30859375\n",
            "Processing: value_Name 2410.30859375\n",
            "Processing: attr_str 2410.30859375\n",
            "Processing: value_Attribute 2620.1640625\n",
            "Processing: exc_Call 2620.1640625\n",
            "Processing: cause_NoneType 2620.1640625\n",
            "Processing: func_Name 2620.1640625\n",
            "Processing: args_list 2620.1640625\n",
            "Processing: keywords_list 2620.1640625\n",
            "Processing: left_Str 2620.1640625\n",
            "Processing: op_Mod 2620.1640625\n",
            "Processing: right_Attribute 2620.1640625\n",
            "Processing: value_List 2620.1640625\n",
            "Processing: elts_list 2620.1640625\n",
            "Processing: value_Call 2620.1640625\n",
            "Processing: func_Attribute 2620.1640625\n",
            "Processing: elt_Call 2620.1640625\n",
            "Processing: generators_list 2620.1640625\n",
            "Processing: target_Name 2620.1640625\n",
            "Processing: iter_Call 2620.1640625\n",
            "Processing: ifs_list 2620.1640625\n",
            "Processing: is_async_int 2620.1640625\n",
            "Processing: test_Compare 2620.1640625\n",
            "Processing: left_Call 2620.1640625\n",
            "Processing: ops_list 2620.1640625\n",
            "Processing: comparators_list 2620.1640625\n",
            "Processing: value_BinOp 2620.1640625\n",
            "Processing: right_Call 2620.1640625\n",
            "Processing: test_Call 2620.1640625\n",
            "Processing: op_Add 2620.1640625\n",
            "Processing: right_Tuple 2620.1640625\n",
            "Processing: elt_Name 2620.1640625\n",
            "Processing: right_Name 2620.1640625\n",
            "Processing: args_arguments 2620.1640625\n",
            "Processing: decorator_list_list 2620.1640625\n",
            "Processing: returns_NoneType 2620.1640625\n",
            "Processing: vararg_NoneType 2620.1640625\n",
            "Processing: kwonlyargs_list 2620.1640625\n",
            "Processing: kw_defaults_list 2620.1640625\n",
            "Processing: kwarg_NoneType 2620.1640625\n",
            "Processing: defaults_list 2620.3828125\n",
            "Processing: value_Dict 2620.3828125\n",
            "Processing: keys_list 2622.69921875\n",
            "Processing: values_list 2625.015625\n",
            "Processing: slice_Index 2627.6640625\n",
            "Processing: type_Tuple 2629.984375\n",
            "Processing: arg_str 2632.3046875\n",
            "Processing: annotation_NoneType 2634.625\n",
            "Processing: vararg_arg 2636.97265625\n",
            "Processing: kwarg_arg 2639.55078125\n",
            "Processing: test_UnaryOp 2641.87109375\n",
            "Processing: op_Not 2644.1875\n",
            "Processing: operand_Call 2646.765625\n",
            "Processing: arg_NoneType 2649.0859375\n",
            "Processing: left_Name 2651.40625\n",
            "Processing: op_Sub 2653.984375\n",
            "Processing: left_BinOp 2656.30078125\n",
            "Processing: op_Mult 2658.87890625\n",
            "Processing: right_Num 2661.19921875\n",
            "Processing: left_Num 2663.515625\n",
            "Processing: n_int 2666.09375\n",
            "Processing: bases_list 2668.41015625\n",
            "Processing: value_bool 2670.73046875\n",
            "Processing: test_BoolOp 2673.30859375\n",
            "Processing: op_And 2675.62890625\n",
            "Processing: operand_Name 2678.20703125\n",
            "Processing: value_Tuple 2680.52734375\n",
            "Processing: elt_BinOp 2682.84765625\n",
            "Processing: target_Tuple 2685.42578125\n",
            "Processing: value_Compare 2687.74609375\n",
            "Processing: left_Attribute 2690.32421875\n",
            "Processing: value_UnaryOp 2692.80859375\n",
            "Processing: operand_Compare 2695.12890625\n",
            "Processing: value_Yield 2697.703125\n",
            "Processing: body_Str 2700.0234375\n",
            "Processing: orelse_Str 2702.59765625\n",
            "Processing: value_BoolOp 2704.91796875\n",
            "Processing: op_Or 2707.23828125\n",
            "Processing: items_list 2709.81640625\n",
            "Processing: context_expr_Call 2712.1328125\n",
            "Processing: optional_vars_NoneType 2714.453125\n",
            "Processing: iter_Name 2717.03125\n",
            "Processing: exc_NoneType 2719.3515625\n",
            "Processing: value_Num 2721.9296875\n",
            "Processing: value_Subscript 2724.25\n",
            "Processing: exc_Name 2726.5703125\n",
            "Processing: iter_Subscript 2729.1484375\n",
            "Processing: n_float 2733.015625\n",
            "Processing: right_BinOp 2741.5234375\n",
            "Processing: op_Div 2745.12890625\n",
            "Processing: value_IfExp 2747.96484375\n",
            "Processing: body_Attribute 2755.18359375\n",
            "Processing: orelse_Attribute 2757.76171875\n",
            "Processing: slice_Slice 2760.59765625\n",
            "Processing: lower_Num 2767.30078125\n",
            "Processing: upper_NoneType 2770.54296875\n",
            "Processing: step_NoneType 2773.37890625\n",
            "Processing: body_BinOp 2776.47265625\n",
            "Processing: value_ListComp 2780.625\n",
            "Processing: msg_Attribute 2784.48046875\n",
            "Processing: msg_Tuple 2787.3125\n",
            "Processing: iter_Attribute 2790.40625\n",
            "Processing: body_Call 2794.015625\n",
            "Processing: orelse_Dict 2797.3671875\n",
            "Processing: body_Dict 2800.45703125\n",
            "Processing: orelse_NameConstant 2803.29296875\n",
            "Processing: value_Lambda 2806.38671875\n",
            "Processing: body_Subscript 2809.99609375\n",
            "Processing: op_USub 2813.34765625\n",
            "Processing: operand_Num 2816.4375\n",
            "Processing: orelse_Name 2819.2734375\n",
            "Processing: test_Subscript 2822.3671875\n",
            "Processing: lower_NoneType 2825.71875\n",
            "Processing: upper_Num 2828.8125\n",
            "Processing: ctx_Del 2831.6484375\n",
            "Processing: left_Subscript 2834.73828125\n",
            "Processing: conversion_int 2839.89453125\n",
            "Processing: format_spec_NoneType 2843.24609375\n",
            "Processing: cause_Name 2846.3359375\n",
            "Processing: left_List 2849.171875\n",
            "Processing: right_Str 2852.265625\n",
            "Processing: iter_List 2855.359375\n",
            "Processing: orelse_Call 2858.1953125\n",
            "Processing: orelse_Num 2861.50390625\n",
            "Processing: operand_Attribute 2864.59765625\n",
            "Processing: value_Set 2867.94921875\n",
            "Processing: op_BitOr 2870.78515625\n",
            "Processing: right_List 2873.87890625\n",
            "Processing: right_ListComp 2876.97265625\n",
            "Processing: right_Set 2880.32421875\n",
            "Processing: op_UAdd 2883.41796875\n",
            "Processing: iter_Tuple 2886.25390625\n",
            "Processing: operand_BoolOp 2889.34765625\n",
            "Processing: op_LShift 2892.4140625\n",
            "Processing: op_BitAnd 2895.33203125\n",
            "Processing: test_BinOp 2898.42578125\n",
            "Processing: left_Tuple 2901.77734375\n",
            "Processing: body_Name 2904.61328125\n",
            "Processing: upper_UnaryOp 2907.70703125\n",
            "Processing: lower_Name 2910.80078125\n",
            "Processing: operand_Subscript 2913.89453125\n",
            "Processing: elt_Tuple 2916.73046875\n",
            "Processing: upper_Name 2919.82421875\n",
            "Processing: right_Subscript 2922.91796875\n",
            "Processing: lower_UnaryOp 2925.75390625\n",
            "Processing: upper_Attribute 2928.84765625\n",
            "Processing: upper_BinOp 2931.94140625\n",
            "Processing: lower_BinOp 2935.51171875\n",
            "Processing: value_DictComp 2938.86328125\n",
            "Processing: key_Name 2942.73046875\n",
            "Processing: op_FloorDiv 2945.82421875\n",
            "Processing: msg_NoneType 2948.91796875\n",
            "Processing: func_Call 2951.75390625\n",
            "Processing: key_Attribute 2954.84765625\n",
            "Processing: test_NameConstant 2957.94140625\n",
            "Processing: cause_NameConstant 2960.77734375\n",
            "Processing: body_NameConstant 2963.87109375\n",
            "Processing: value_Bytes 2966.96484375\n",
            "Processing: s_bytes 2970.05859375\n",
            "Processing: target_Attribute 2974.953125\n",
            "Processing: target_Subscript 2978.046875\n",
            "Processing: type_NoneType 2981.140625\n",
            "Processing: value_JoinedStr 2983.9765625\n",
            "Processing: optional_vars_Name 2987.0703125\n"
          ]
        },
        {
          "output_type": "execute_result",
          "data": {
            "text/plain": [
              "2990.1640625"
            ]
          },
          "metadata": {},
          "execution_count": 11
        }
      ]
    },
    {
      "cell_type": "markdown",
      "source": [
        "2.8gb ram used \n",
        "37 gb disk"
      ],
      "metadata": {
        "id": "PX7y5SQCbsvI"
      }
    },
    {
      "cell_type": "code",
      "source": [
        "encoded_data ={\n",
        "        c: colencoders[c]['be'].transform(df[c])\n",
        "        for c in df.columns\n",
        "        }\n",
        "        # 7gb\n",
        "psutil.Process().memory_info().rss / (1024 * 1024)"
      ],
      "metadata": {
        "id": "tQcKgf3LcWIu",
        "colab": {
          "base_uri": "https://localhost:8080/"
        },
        "outputId": "c6a37d42-c3c2-4544-c2bb-6afda48b676b"
      },
      "execution_count": 14,
      "outputs": [
        {
          "output_type": "execute_result",
          "data": {
            "text/plain": [
              "4862.2578125"
            ]
          },
          "metadata": {},
          "execution_count": 14
        }
      ]
    },
    {
      "cell_type": "code",
      "source": [
        "col_width_df = pd.DataFrame({ k : encoded_data[k].shape[1] for k in encoded_data if encoded_data[k].shape[1] > 2},index=[0])"
      ],
      "metadata": {
        "id": "USg07hUIQ3B-"
      },
      "execution_count": 42,
      "outputs": []
    },
    {
      "cell_type": "code",
      "source": [
        "# there are a bunch of columes with very little data, lets exclude them\n",
        "col_width_df.transpose().hist()"
      ],
      "metadata": {
        "colab": {
          "base_uri": "https://localhost:8080/",
          "height": 316
        },
        "id": "n5k0IFvwSHgt",
        "outputId": "0a6b9b5b-712e-44f9-e350-f3ac0b2d4063"
      },
      "execution_count": 43,
      "outputs": [
        {
          "output_type": "execute_result",
          "data": {
            "text/plain": [
              "array([[<matplotlib.axes._subplots.AxesSubplot object at 0x7fda555282d0>]],\n",
              "      dtype=object)"
            ]
          },
          "metadata": {},
          "execution_count": 43
        },
        {
          "output_type": "display_data",
          "data": {
            "text/plain": [
              "<Figure size 432x288 with 1 Axes>"
            ],
            "image/png": "[encoded data removed]"
          },
          "metadata": {
            "needs_background": "light"
          }
        }
      ]
    },
    {
      "cell_type": "code",
      "source": [
        "[x for x in col_width_df.transpose().groupby([0])]"
      ],
      "metadata": {
        "colab": {
          "base_uri": "https://localhost:8080/"
        },
        "id": "fmuNq3zUTE78",
        "outputId": "0e483859-7884-45d3-ee29-3851a00279e5"
      },
      "execution_count": 48,
      "outputs": [
        {
          "output_type": "execute_result",
          "data": {
            "text/plain": [
              "[(3,                     0\n",
              "  names_list          3\n",
              "  level_int           3\n",
              "  handlers_list       3\n",
              "  value_NameConstant  3\n",
              "  test_Attribute      3\n",
              "  keywords_list       3\n",
              "  elt_Call            3\n",
              "  iter_Call           3\n",
              "  left_Call           3\n",
              "  right_Call          3\n",
              "  test_Call           3\n",
              "  kwonlyargs_list     3\n",
              "  operand_Call        3\n",
              "  right_Num           3\n",
              "  left_Num            3\n",
              "  value_bool          3\n",
              "  test_BoolOp         3\n",
              "  value_BoolOp        3\n",
              "  value_Num           3\n",
              "  iter_Attribute      3\n",
              "  body_Call           3\n",
              "  body_Subscript      3\n",
              "  test_Subscript      3\n",
              "  conversion_int      3\n",
              "  operand_Attribute   3\n",
              "  test_BinOp          3\n",
              "  lower_BinOp         3), (4,                  0\n",
              "  finalbody_list   4\n",
              "  right_Attribute  4\n",
              "  value_Call       4\n",
              "  bases_list       4\n",
              "  value_Compare    4\n",
              "  operand_Compare  4\n",
              "  right_BinOp      4\n",
              "  value_ListComp   4\n",
              "  value_Lambda     4\n",
              "  upper_BinOp      4), (5,                      0\n",
              "  targets_list         5\n",
              "  value_Attribute      5\n",
              "  ifs_list             5\n",
              "  args_arguments       5\n",
              "  decorator_list_list  5\n",
              "  keys_list            5\n",
              "  left_Attribute       5\n",
              "  iter_Subscript       5\n",
              "  value_DictComp       5), (6,                0\n",
              "  test_Compare   6\n",
              "  test_UnaryOp   6\n",
              "  value_UnaryOp  6\n",
              "  body_BinOp     6), (7,                 0\n",
              "  func_Attribute  7\n",
              "  value_Yield     7), (8,                  0\n",
              "  value_Subscript  8\n",
              "  s_bytes          8), (9,                 0\n",
              "  slice_Index     9\n",
              "  left_Subscript  9), (11,                    0\n",
              "  ops_list          11\n",
              "  kw_defaults_list  11), (14,                    0\n",
              "  comparators_list  14\n",
              "  slice_Slice       14), (15,               0\n",
              "  value_IfExp  15), (16,              0\n",
              "  left_BinOp  16), (20,           0\n",
              "  n_float  20), (22,                 0\n",
              "  defaults_list  22), (25,         0\n",
              "  n_int  25), (28,             0\n",
              "  elts_list  28), (33,               0\n",
              "  orelse_list  33), (40,               0\n",
              "  values_list  40), (41,               0\n",
              "  value_BinOp  41), (58,             0\n",
              "  args_list  58), (98,              0\n",
              "  asname_str  98), (146,               0\n",
              "  module_str  146), (150,              0\n",
              "  body_list  150), (346,             0\n",
              "  nodetype  346), (469,            0\n",
              "  arg_str  469), (702,             0\n",
              "  attr_str  702), (1087,           0\n",
              "  s_str  1087), (1119,              0\n",
              "  name_str  1119), (1329,            0\n",
              "  id_str  1329)]"
            ]
          },
          "metadata": {},
          "execution_count": 48
        }
      ]
    },
    {
      "cell_type": "markdown",
      "source": [
        "We see above that there is an id_str,\n",
        "``` \n",
        "(469,            0 arg_str  469), \n",
        "(702,            0 attr_str  702), \n",
        "(1087,           0 s_str  1087), \n",
        "(1119,           0 name_str  1119), \n",
        "(1329,           0 id_str  1329)\n",
        "```\n",
        "\n",
        "I wonder if there are common values between those string fields,\n",
        "lets retrain it on a single colencoder by type str.\n",
        "\n",
        "but for now I want those high cardinality items and to see if we can find common values. \n"
      ],
      "metadata": {
        "id": "8pGiZt8jTYq7"
      }
    },
    {
      "cell_type": "code",
      "source": [
        "def merge_columns(names):\n",
        "  be = sklearn.preprocessing.LabelBinarizer()\n",
        "  stacker =[]\n",
        "  for c in names:\n",
        "    print(\"Processing: \" + c + \" \" + str(psutil.Process().memory_info().rss / (1024 * 1024)))\n",
        "    df[c] = df[c].astype(str)\n",
        "    stacker.append(df[c])\n",
        "  df3 = pd.concat(stacker, ignore_index=True)\n",
        "  b2 = be.fit(df3)\n",
        "  my_encoded_data = {\n",
        "        c: be.transform(df[c])\n",
        "        for c in names\n",
        "  }\n",
        "  width_df = pd.DataFrame({ k : my_encoded_data[k].shape[1] for k in my_encoded_data },index=[0])\n",
        "  return { \"ce\": b2, \"df\" : my_encoded_data, \"width\": width_df}\n",
        "\n",
        "print(\"MEM\",psutil.Process().memory_info().rss / (1024 * 1024))\n",
        "lb_id_name = merge_columns([\"id_str\",\"name_str\"]) \n",
        "lb_id_name"
      ],
      "metadata": {
        "colab": {
          "base_uri": "https://localhost:8080/"
        },
        "id": "LTpwnKQjUHYj",
        "outputId": "32febb63-995e-442d-ac8c-6102d3c849c1"
      },
      "execution_count": 57,
      "outputs": [
        {
          "output_type": "stream",
          "name": "stdout",
          "text": [
            "MEM 6383.80078125\n",
            "Processing: id_str 6383.80078125\n",
            "Processing: name_str 6383.80078125\n"
          ]
        },
        {
          "output_type": "execute_result",
          "data": {
            "text/plain": [
              "{'ce': LabelBinarizer(), 'df': {'id_str': array([[0, 0, 0, ..., 0, 0, 0],\n",
              "         [0, 0, 0, ..., 0, 0, 0],\n",
              "         [0, 0, 0, ..., 0, 0, 0],\n",
              "         ...,\n",
              "         [0, 0, 0, ..., 0, 0, 0],\n",
              "         [0, 0, 0, ..., 0, 0, 0],\n",
              "         [0, 0, 0, ..., 0, 0, 0]]), 'name_str': array([[0, 0, 0, ..., 0, 0, 0],\n",
              "         [0, 0, 0, ..., 0, 0, 0],\n",
              "         [0, 0, 0, ..., 0, 0, 0],\n",
              "         ...,\n",
              "         [1, 0, 0, ..., 0, 0, 0],\n",
              "         [0, 0, 0, ..., 0, 0, 0],\n",
              "         [1, 0, 0, ..., 0, 0, 0]])}, 'width':    id_str  name_str\n",
              " 0    2139      2139}"
            ]
          },
          "metadata": {},
          "execution_count": 57
        }
      ]
    },
    {
      "cell_type": "code",
      "source": [
        "ed_col_width_df = pd.DataFrame({ k : lb_id_name[\"df\"][k].shape[1] for k in lb_id_name[\"df\"] },index=[0])"
      ],
      "metadata": {
        "id": "cIwGaBnxWLMq"
      },
      "execution_count": 53,
      "outputs": []
    },
    {
      "cell_type": "code",
      "source": [
        "ed_col_width_df"
      ],
      "metadata": {
        "colab": {
          "base_uri": "https://localhost:8080/",
          "height": 81
        },
        "id": "3MZ2Cm7iWk34",
        "outputId": "d17adfbd-1766-4236-f0f9-286f3278ed7e"
      },
      "execution_count": 54,
      "outputs": [
        {
          "output_type": "execute_result",
          "data": {
            "text/plain": [
              "   id_str  name_str\n",
              "0    2139      2139"
            ],
            "text/html": [
              "\n",
              "  <div id=\"df-1da4e443-d698-4c14-a631-1a598709e13a\">\n",
              "    <div class=\"colab-df-container\">\n",
              "      <div>\n",
              "<style scoped>\n",
              "    .dataframe tbody tr th:only-of-type {\n",
              "        vertical-align: middle;\n",
              "    }\n",
              "\n",
              "    .dataframe tbody tr th {\n",
              "        vertical-align: top;\n",
              "    }\n",
              "\n",
              "    .dataframe thead th {\n",
              "        text-align: right;\n",
              "    }\n",
              "</style>\n",
              "<table border=\"1\" class=\"dataframe\">\n",
              "  <thead>\n",
              "    <tr style=\"text-align: right;\">\n",
              "      <th></th>\n",
              "      <th>id_str</th>\n",
              "      <th>name_str</th>\n",
              "    </tr>\n",
              "  </thead>\n",
              "  <tbody>\n",
              "    <tr>\n",
              "      <th>0</th>\n",
              "      <td>2139</td>\n",
              "      <td>2139</td>\n",
              "    </tr>\n",
              "  </tbody>\n",
              "</table>\n",
              "</div>\n",
              "      <button class=\"colab-df-convert\" onclick=\"convertToInteractive('df-1da4e443-d698-4c14-a631-1a598709e13a')\"\n",
              "              title=\"Convert this dataframe to an interactive table.\"\n",
              "              style=\"display:none;\">\n",
              "        \n",
              "  <svg xmlns=\"http://www.w3.org/2000/svg\" height=\"24px\"viewBox=\"0 0 24 24\"\n",
              "       width=\"24px\">\n",
              "    <path d=\"M0 0h24v24H0V0z\" fill=\"none\"/>\n",
              "    <path d=\"M18.56 5.44l.94 2.06.94-2.06 2.06-.94-2.06-.94-.94-2.06-.94 2.06-2.06.94zm-11 1L8.5 8.5l.94-2.06 2.06-.94-2.06-.94L8.5 2.5l-.94 2.06-2.06.94zm10 10l.94 2.06.94-2.06 2.06-.94-2.06-.94-.94-2.06-.94 2.06-2.06.94z\"/><path d=\"M17.41 7.96l-1.37-1.37c-.4-.4-.92-.59-1.43-.59-.52 0-1.04.2-1.43.59L10.3 9.45l-7.72 7.72c-.78.78-.78 2.05 0 2.83L4 21.41c.39.39.9.59 1.41.59.51 0 1.02-.2 1.41-.59l7.78-7.78 2.81-2.81c.8-.78.8-2.07 0-2.86zM5.41 20L4 18.59l7.72-7.72 1.47 1.35L5.41 20z\"/>\n",
              "  </svg>\n",
              "      </button>\n",
              "      \n",
              "  <style>\n",
              "    .colab-df-container {\n",
              "      display:flex;\n",
              "      flex-wrap:wrap;\n",
              "      gap: 12px;\n",
              "    }\n",
              "\n",
              "    .colab-df-convert {\n",
              "      background-color: #E8F0FE;\n",
              "      border: none;\n",
              "      border-radius: 50%;\n",
              "      cursor: pointer;\n",
              "      display: none;\n",
              "      fill: #1967D2;\n",
              "      height: 32px;\n",
              "      padding: 0 0 0 0;\n",
              "      width: 32px;\n",
              "    }\n",
              "\n",
              "    .colab-df-convert:hover {\n",
              "      background-color: #E2EBFA;\n",
              "      box-shadow: 0px 1px 2px rgba(60, 64, 67, 0.3), 0px 1px 3px 1px rgba(60, 64, 67, 0.15);\n",
              "      fill: #174EA6;\n",
              "    }\n",
              "\n",
              "    [theme=dark] .colab-df-convert {\n",
              "      background-color: #3B4455;\n",
              "      fill: #D2E3FC;\n",
              "    }\n",
              "\n",
              "    [theme=dark] .colab-df-convert:hover {\n",
              "      background-color: #434B5C;\n",
              "      box-shadow: 0px 1px 3px 1px rgba(0, 0, 0, 0.15);\n",
              "      filter: drop-shadow(0px 1px 2px rgba(0, 0, 0, 0.3));\n",
              "      fill: #FFFFFF;\n",
              "    }\n",
              "  </style>\n",
              "\n",
              "      <script>\n",
              "        const buttonEl =\n",
              "          document.querySelector('#df-1da4e443-d698-4c14-a631-1a598709e13a button.colab-df-convert');\n",
              "        buttonEl.style.display =\n",
              "          google.colab.kernel.accessAllowed ? 'block' : 'none';\n",
              "\n",
              "        async function convertToInteractive(key) {\n",
              "          const element = document.querySelector('#df-1da4e443-d698-4c14-a631-1a598709e13a');\n",
              "          const dataTable =\n",
              "            await google.colab.kernel.invokeFunction('convertToInteractive',\n",
              "                                                     [key], {});\n",
              "          if (!dataTable) return;\n",
              "\n",
              "          const docLinkHtml = 'Like what you see? Visit the ' +\n",
              "            '<a target=\"_blank\" href=https://colab.research.google.com/notebooks/data_table.ipynb>data table notebook</a>'\n",
              "            + ' to learn more about interactive tables.';\n",
              "          element.innerHTML = '';\n",
              "          dataTable['output_type'] = 'display_data';\n",
              "          await google.colab.output.renderOutput(dataTable, element);\n",
              "          const docLink = document.createElement('div');\n",
              "          docLink.innerHTML = docLinkHtml;\n",
              "          element.appendChild(docLink);\n",
              "        }\n",
              "      </script>\n",
              "    </div>\n",
              "  </div>\n",
              "  "
            ]
          },
          "metadata": {},
          "execution_count": 54
        }
      ]
    },
    {
      "cell_type": "code",
      "source": [
        "strcols= [x for x in col_width_df.columns if x.endswith(\"str\")]"
      ],
      "metadata": {
        "id": "Y0Cj7MyHXkRv"
      },
      "execution_count": 65,
      "outputs": []
    },
    {
      "cell_type": "code",
      "source": [
        "merge_columns(strcols)"
      ],
      "metadata": {
        "colab": {
          "base_uri": "https://localhost:8080/"
        },
        "id": "OzON_cpfYKSo",
        "outputId": "a3b15c63-bd79-46aa-9f9a-1908c21306cc"
      },
      "execution_count": null,
      "outputs": [
        {
          "output_type": "stream",
          "name": "stdout",
          "text": [
            "Processing: s_str 9373.90625\n",
            "Processing: module_str 9374.41796875\n",
            "Processing: name_str 9374.41796875\n",
            "Processing: id_str 9374.41796875\n",
            "Processing: asname_str 9374.41796875\n",
            "Processing: attr_str 9374.41796875\n",
            "Processing: arg_str 9374.41796875\n"
          ]
        }
      ]
    },
    {
      "cell_type": "code",
      "source": [
        "# if we add up the cardicalities we can see 309 strings that I think are overlapping. We can use this technique to create groups of attributes. lets add in another columne.\n",
        "\n",
        "1329+1119-2139"
      ],
      "metadata": {
        "colab": {
          "base_uri": "https://localhost:8080/"
        },
        "id": "MoahAf56WqQw",
        "outputId": "a44a4938-41f1-4537-e693-f9ca5bab1934"
      },
      "execution_count": 56,
      "outputs": [
        {
          "output_type": "execute_result",
          "data": {
            "text/plain": [
              "309"
            ]
          },
          "metadata": {},
          "execution_count": 56
        }
      ]
    },
    {
      "cell_type": "code",
      "source": [
        "# the thrid column (s_str) seems contained in the first two\n",
        "merge_columns([\"id_str\",\"name_str\",\"s_str\"]) \n",
        "lb_id_name"
      ],
      "metadata": {
        "colab": {
          "base_uri": "https://localhost:8080/"
        },
        "id": "s3NHWuzsXOVB",
        "outputId": "78459b47-a06e-4c80-a42b-5dd43c7bf404"
      },
      "execution_count": 58,
      "outputs": [
        {
          "output_type": "stream",
          "name": "stdout",
          "text": [
            "Processing: id_str 7663.94140625\n",
            "Processing: name_str 7663.94140625\n",
            "Processing: s_str 7663.94140625\n"
          ]
        },
        {
          "output_type": "execute_result",
          "data": {
            "text/plain": [
              "{'ce': LabelBinarizer(), 'df': {'id_str': array([[0, 0, 0, ..., 0, 0, 0],\n",
              "         [0, 0, 0, ..., 0, 0, 0],\n",
              "         [0, 0, 0, ..., 0, 0, 0],\n",
              "         ...,\n",
              "         [0, 0, 0, ..., 0, 0, 0],\n",
              "         [0, 0, 0, ..., 0, 0, 0],\n",
              "         [0, 0, 0, ..., 0, 0, 0]]), 'name_str': array([[0, 0, 0, ..., 0, 0, 0],\n",
              "         [0, 0, 0, ..., 0, 0, 0],\n",
              "         [0, 0, 0, ..., 0, 0, 0],\n",
              "         ...,\n",
              "         [1, 0, 0, ..., 0, 0, 0],\n",
              "         [0, 0, 0, ..., 0, 0, 0],\n",
              "         [1, 0, 0, ..., 0, 0, 0]])}, 'width':    id_str  name_str\n",
              " 0    2139      2139}"
            ]
          },
          "metadata": {},
          "execution_count": 58
        }
      ]
    },
    {
      "cell_type": "code",
      "source": [
        ""
      ],
      "metadata": {
        "id": "m8_MRwAhXqi_"
      },
      "execution_count": null,
      "outputs": []
    },
    {
      "cell_type": "code",
      "source": [
        "newcols = []\n",
        "for c in df.columns:\n",
        "  ce = colencoders[c]['be'] \n",
        "  for cc in ce.classes_: \n",
        "    newcols.append(c+\"_\"+cc)\n",
        "len(newcols)\n",
        "psutil.Process().memory_info().rss / (1024 * 1024)"
      ],
      "metadata": {
        "colab": {
          "base_uri": "https://localhost:8080/"
        },
        "id": "gZBJjgqrrKAC",
        "outputId": "a93255c3-b03f-4fc4-adbe-85faa89ccc0a"
      },
      "execution_count": 15,
      "outputs": [
        {
          "output_type": "execute_result",
          "data": {
            "text/plain": [
              "4862.66796875"
            ]
          },
          "metadata": {},
          "execution_count": 15
        }
      ]
    },
    {
      "cell_type": "code",
      "source": [
        "newobject=[]\n",
        "for r in df.index[0:10]:\n",
        "  st = []\n",
        "  for c in df.columns:\n",
        "    ce = colencoders[c]['be']\n",
        "    attr = encoded_data[c][r]\n",
        "    #dd = ce.inverse_transform(attr)\n",
        "    #if dd[0] != 'nan':\n",
        "    #  print(r, c, attr, dd)\n",
        "    da = attr\n",
        "    print(len(da), len(ce.classes_))\n",
        "    st.append(da)\n",
        "  st2 = np.hstack(st)\n",
        "  #\n",
        "  no = pd.Series(pd.arrays.SparseArray(st2[0]))\n",
        "  newobject.append(no)\n",
        "  #print(c, shapes)\n",
        "psutil.Process().memory_info().rss / (1024 * 1024)"
      ],
      "metadata": {
        "id": "Vcje5bY_lG3u"
      },
      "execution_count": null,
      "outputs": []
    },
    {
      "cell_type": "code",
      "source": [
        "[ x.shape for x in newobject ]"
      ],
      "metadata": {
        "colab": {
          "base_uri": "https://localhost:8080/"
        },
        "id": "chusD9B4naE1",
        "outputId": "29600861-6064-43e8-e123-e4a3b8d24c48"
      },
      "execution_count": 88,
      "outputs": [
        {
          "output_type": "execute_result",
          "data": {
            "text/plain": [
              "[(5241,),\n",
              " (5241,),\n",
              " (5241,),\n",
              " (5241,),\n",
              " (5241,),\n",
              " (5241,),\n",
              " (5241,),\n",
              " (5241,),\n",
              " (5241,),\n",
              " (5241,)]"
            ]
          },
          "metadata": {},
          "execution_count": 88
        }
      ]
    },
    {
      "cell_type": "code",
      "source": [
        "\n",
        "encoded_ds = pd.DataFrame(newobject,  ) \n",
        "psutil.Process().memory_info().rss / (1024 * 1024)"
      ],
      "metadata": {
        "colab": {
          "base_uri": "https://localhost:8080/"
        },
        "id": "AnJ56UZxcKn-",
        "outputId": "0951f6c1-8c57-412d-8bc6-b9827c991584"
      },
      "execution_count": 22,
      "outputs": [
        {
          "output_type": "execute_result",
          "data": {
            "text/plain": [
              "4876.23828125"
            ]
          },
          "metadata": {},
          "execution_count": 22
        }
      ]
    },
    {
      "cell_type": "code",
      "source": [
        "dataframes=[]\n",
        "df2 = pd.DataFrame(encoded_ds)\n",
        "print(list(df2.columns))\n",
        "for c in list(df2.columns):\n",
        "    #print(c)\n",
        "    dfx = pd.DataFrame(encoded_ds).drop([c],axis=1)\n",
        "    dfy = pd.DataFrame(encoded_ds[c]).values.ravel()      \n",
        "    #print(dfx.shape,dfy.shape)\n",
        "    #print(dfx.head(),dfy[0:10]) \n",
        "    X = dfx\n",
        "    Y = dfy    \n",
        "    d= {\n",
        "        'c': c,\n",
        "        \"dfx\":dfx,\n",
        "        \"dfy\":dfy,\n",
        "       # \"features\":features,\n",
        "       # \"test\":test,\n",
        "       # 'fit': fit\n",
        "    }\n",
        "    #print(features)\n",
        "    dataframes.append(d)\n",
        "psutil.Process().memory_info().rss / (1024 * 1024)"
      ],
      "metadata": {
        "colab": {
          "base_uri": "https://localhost:8080/"
        },
        "id": "S22B2vClb1hF",
        "outputId": "6ec945fa-15de-4d2f-e7db-e6973e0c457b"
      },
      "execution_count": 23,
      "outputs": [
        {
          "output_type": "stream",
          "name": "stdout",
          "text": [
            "[0]\n",
            "0\n"
          ]
        },
        {
          "output_type": "execute_result",
          "data": {
            "text/plain": [
              "4876.3828125"
            ]
          },
          "metadata": {},
          "execution_count": 23
        }
      ]
    },
    {
      "cell_type": "code",
      "source": [
        "encoded_ds.head()"
      ],
      "metadata": {
        "colab": {
          "base_uri": "https://localhost:8080/",
          "height": 206
        },
        "id": "GhOsi6TTQLyA",
        "outputId": "62c2261c-9210-4f9c-aafe-b04f2ace4a7e"
      },
      "execution_count": 25,
      "outputs": [
        {
          "output_type": "execute_result",
          "data": {
            "text/plain": [
              "   0\n",
              "0  0\n",
              "1  1\n",
              "2  0\n",
              "3  1\n",
              "4  1"
            ],
            "text/html": [
              "\n",
              "  <div id=\"df-051ce44c-91f6-4a49-a5c2-a9284df21b10\">\n",
              "    <div class=\"colab-df-container\">\n",
              "      <div>\n",
              "<style scoped>\n",
              "    .dataframe tbody tr th:only-of-type {\n",
              "        vertical-align: middle;\n",
              "    }\n",
              "\n",
              "    .dataframe tbody tr th {\n",
              "        vertical-align: top;\n",
              "    }\n",
              "\n",
              "    .dataframe thead th {\n",
              "        text-align: right;\n",
              "    }\n",
              "</style>\n",
              "<table border=\"1\" class=\"dataframe\">\n",
              "  <thead>\n",
              "    <tr style=\"text-align: right;\">\n",
              "      <th></th>\n",
              "      <th>0</th>\n",
              "    </tr>\n",
              "  </thead>\n",
              "  <tbody>\n",
              "    <tr>\n",
              "      <th>0</th>\n",
              "      <td>0</td>\n",
              "    </tr>\n",
              "    <tr>\n",
              "      <th>1</th>\n",
              "      <td>1</td>\n",
              "    </tr>\n",
              "    <tr>\n",
              "      <th>2</th>\n",
              "      <td>0</td>\n",
              "    </tr>\n",
              "    <tr>\n",
              "      <th>3</th>\n",
              "      <td>1</td>\n",
              "    </tr>\n",
              "    <tr>\n",
              "      <th>4</th>\n",
              "      <td>1</td>\n",
              "    </tr>\n",
              "  </tbody>\n",
              "</table>\n",
              "</div>\n",
              "      <button class=\"colab-df-convert\" onclick=\"convertToInteractive('df-051ce44c-91f6-4a49-a5c2-a9284df21b10')\"\n",
              "              title=\"Convert this dataframe to an interactive table.\"\n",
              "              style=\"display:none;\">\n",
              "        \n",
              "  <svg xmlns=\"http://www.w3.org/2000/svg\" height=\"24px\"viewBox=\"0 0 24 24\"\n",
              "       width=\"24px\">\n",
              "    <path d=\"M0 0h24v24H0V0z\" fill=\"none\"/>\n",
              "    <path d=\"M18.56 5.44l.94 2.06.94-2.06 2.06-.94-2.06-.94-.94-2.06-.94 2.06-2.06.94zm-11 1L8.5 8.5l.94-2.06 2.06-.94-2.06-.94L8.5 2.5l-.94 2.06-2.06.94zm10 10l.94 2.06.94-2.06 2.06-.94-2.06-.94-.94-2.06-.94 2.06-2.06.94z\"/><path d=\"M17.41 7.96l-1.37-1.37c-.4-.4-.92-.59-1.43-.59-.52 0-1.04.2-1.43.59L10.3 9.45l-7.72 7.72c-.78.78-.78 2.05 0 2.83L4 21.41c.39.39.9.59 1.41.59.51 0 1.02-.2 1.41-.59l7.78-7.78 2.81-2.81c.8-.78.8-2.07 0-2.86zM5.41 20L4 18.59l7.72-7.72 1.47 1.35L5.41 20z\"/>\n",
              "  </svg>\n",
              "      </button>\n",
              "      \n",
              "  <style>\n",
              "    .colab-df-container {\n",
              "      display:flex;\n",
              "      flex-wrap:wrap;\n",
              "      gap: 12px;\n",
              "    }\n",
              "\n",
              "    .colab-df-convert {\n",
              "      background-color: #E8F0FE;\n",
              "      border: none;\n",
              "      border-radius: 50%;\n",
              "      cursor: pointer;\n",
              "      display: none;\n",
              "      fill: #1967D2;\n",
              "      height: 32px;\n",
              "      padding: 0 0 0 0;\n",
              "      width: 32px;\n",
              "    }\n",
              "\n",
              "    .colab-df-convert:hover {\n",
              "      background-color: #E2EBFA;\n",
              "      box-shadow: 0px 1px 2px rgba(60, 64, 67, 0.3), 0px 1px 3px 1px rgba(60, 64, 67, 0.15);\n",
              "      fill: #174EA6;\n",
              "    }\n",
              "\n",
              "    [theme=dark] .colab-df-convert {\n",
              "      background-color: #3B4455;\n",
              "      fill: #D2E3FC;\n",
              "    }\n",
              "\n",
              "    [theme=dark] .colab-df-convert:hover {\n",
              "      background-color: #434B5C;\n",
              "      box-shadow: 0px 1px 3px 1px rgba(0, 0, 0, 0.15);\n",
              "      filter: drop-shadow(0px 1px 2px rgba(0, 0, 0, 0.3));\n",
              "      fill: #FFFFFF;\n",
              "    }\n",
              "  </style>\n",
              "\n",
              "      <script>\n",
              "        const buttonEl =\n",
              "          document.querySelector('#df-051ce44c-91f6-4a49-a5c2-a9284df21b10 button.colab-df-convert');\n",
              "        buttonEl.style.display =\n",
              "          google.colab.kernel.accessAllowed ? 'block' : 'none';\n",
              "\n",
              "        async function convertToInteractive(key) {\n",
              "          const element = document.querySelector('#df-051ce44c-91f6-4a49-a5c2-a9284df21b10');\n",
              "          const dataTable =\n",
              "            await google.colab.kernel.invokeFunction('convertToInteractive',\n",
              "                                                     [key], {});\n",
              "          if (!dataTable) return;\n",
              "\n",
              "          const docLinkHtml = 'Like what you see? Visit the ' +\n",
              "            '<a target=\"_blank\" href=https://colab.research.google.com/notebooks/data_table.ipynb>data table notebook</a>'\n",
              "            + ' to learn more about interactive tables.';\n",
              "          element.innerHTML = '';\n",
              "          dataTable['output_type'] = 'display_data';\n",
              "          await google.colab.output.renderOutput(dataTable, element);\n",
              "          const docLink = document.createElement('div');\n",
              "          docLink.innerHTML = docLinkHtml;\n",
              "          element.appendChild(docLink);\n",
              "        }\n",
              "      </script>\n",
              "    </div>\n",
              "  </div>\n",
              "  "
            ]
          },
          "metadata": {},
          "execution_count": 25
        }
      ]
    }
  ]
}